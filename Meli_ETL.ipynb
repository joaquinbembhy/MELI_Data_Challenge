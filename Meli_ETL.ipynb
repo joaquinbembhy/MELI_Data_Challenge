{
  "nbformat": 4,
  "nbformat_minor": 0,
  "metadata": {
    "colab": {
      "name": "Meli_ETL",
      "provenance": [],
      "collapsed_sections": []
    },
    "kernelspec": {
      "name": "python3",
      "display_name": "Python 3"
    },
    "language_info": {
      "name": "python"
    }
  },
  "cells": [
    {
      "cell_type": "markdown",
      "metadata": {
        "id": "E4Z1aQ75AQrg"
      },
      "source": [
        "# Module 1\n",
        "\n",
        "## ETL for MELI Data Challenge 2021"
      ]
    },
    {
      "cell_type": "code",
      "metadata": {
        "id": "6Boq1cEejoLR"
      },
      "source": [
        "!pip install tqdm\n",
        "!pip install jsonlines\n",
        "\n",
        "import pandas as pd\n",
        "import json\n",
        "from tqdm import tqdm\n",
        "import csv\n",
        "import matplotlib.pyplot as plt\n",
        "import multiprocessing\n",
        "from itertools import chain, islice\n",
        "from datetime import timedelta\n",
        "import jsonlines\n",
        "import seaborn as sns\n",
        "from pathlib import Path"
      ],
      "execution_count": 2,
      "outputs": []
    },
    {
      "cell_type": "code",
      "metadata": {
        "colab": {
          "base_uri": "https://localhost:8080/"
        },
        "id": "MRbWM8j1kHVa",
        "outputId": "053ff634-efa4-425f-cea2-9e6550f5b309"
      },
      "source": [
        "from google.colab import drive\n",
        "drive.mount('/content/gdrive')"
      ],
      "execution_count": 3,
      "outputs": [
        {
          "output_type": "stream",
          "text": [
            "Drive already mounted at /content/gdrive; to attempt to forcibly remount, call drive.mount(\"/content/gdrive\", force_remount=True).\n"
          ],
          "name": "stdout"
        }
      ]
    },
    {
      "cell_type": "code",
      "metadata": {
        "id": "pkE6k_Wj0GOx"
      },
      "source": [
        ""
      ],
      "execution_count": 3,
      "outputs": []
    },
    {
      "cell_type": "markdown",
      "metadata": {
        "id": "ahnRvQkaly_1"
      },
      "source": [
        "### 1. Fetching Data\n",
        "\n",
        "#### Loading train and test datasets"
      ]
    },
    {
      "cell_type": "code",
      "metadata": {
        "id": "hfts02E6l0fu"
      },
      "source": [
        "df = pd.read_parquet('/content/gdrive/MyDrive/Data/train_data.parquet')\n",
        "data_test = pd.read_csv('/content/gdrive/MyDrive/Data/test_data.csv')"
      ],
      "execution_count": 4,
      "outputs": []
    },
    {
      "cell_type": "code",
      "metadata": {
        "colab": {
          "base_uri": "https://localhost:8080/",
          "height": 309
        },
        "id": "DJnKCi15mtis",
        "outputId": "eb3ccf44-0369-4ed2-8ba5-248a4b69ca48"
      },
      "source": [
        "df.head()"
      ],
      "execution_count": 5,
      "outputs": [
        {
          "output_type": "execute_result",
          "data": {
            "text/html": [
              "<div>\n",
              "<style scoped>\n",
              "    .dataframe tbody tr th:only-of-type {\n",
              "        vertical-align: middle;\n",
              "    }\n",
              "\n",
              "    .dataframe tbody tr th {\n",
              "        vertical-align: top;\n",
              "    }\n",
              "\n",
              "    .dataframe thead th {\n",
              "        text-align: right;\n",
              "    }\n",
              "</style>\n",
              "<table border=\"1\" class=\"dataframe\">\n",
              "  <thead>\n",
              "    <tr style=\"text-align: right;\">\n",
              "      <th></th>\n",
              "      <th>sku</th>\n",
              "      <th>date</th>\n",
              "      <th>sold_quantity</th>\n",
              "      <th>current_price</th>\n",
              "      <th>currency</th>\n",
              "      <th>listing_type</th>\n",
              "      <th>shipping_logistic_type</th>\n",
              "      <th>shipping_payment</th>\n",
              "      <th>minutes_active</th>\n",
              "    </tr>\n",
              "  </thead>\n",
              "  <tbody>\n",
              "    <tr>\n",
              "      <th>0</th>\n",
              "      <td>464801</td>\n",
              "      <td>2021-02-01</td>\n",
              "      <td>0</td>\n",
              "      <td>156.78</td>\n",
              "      <td>REA</td>\n",
              "      <td>classic</td>\n",
              "      <td>fulfillment</td>\n",
              "      <td>free_shipping</td>\n",
              "      <td>1440.0</td>\n",
              "    </tr>\n",
              "    <tr>\n",
              "      <th>1</th>\n",
              "      <td>464801</td>\n",
              "      <td>2021-02-02</td>\n",
              "      <td>0</td>\n",
              "      <td>156.78</td>\n",
              "      <td>REA</td>\n",
              "      <td>classic</td>\n",
              "      <td>fulfillment</td>\n",
              "      <td>free_shipping</td>\n",
              "      <td>1440.0</td>\n",
              "    </tr>\n",
              "    <tr>\n",
              "      <th>2</th>\n",
              "      <td>464801</td>\n",
              "      <td>2021-02-03</td>\n",
              "      <td>0</td>\n",
              "      <td>156.78</td>\n",
              "      <td>REA</td>\n",
              "      <td>classic</td>\n",
              "      <td>fulfillment</td>\n",
              "      <td>free_shipping</td>\n",
              "      <td>1440.0</td>\n",
              "    </tr>\n",
              "    <tr>\n",
              "      <th>3</th>\n",
              "      <td>464801</td>\n",
              "      <td>2021-02-04</td>\n",
              "      <td>0</td>\n",
              "      <td>156.78</td>\n",
              "      <td>REA</td>\n",
              "      <td>classic</td>\n",
              "      <td>fulfillment</td>\n",
              "      <td>free_shipping</td>\n",
              "      <td>1440.0</td>\n",
              "    </tr>\n",
              "    <tr>\n",
              "      <th>4</th>\n",
              "      <td>464801</td>\n",
              "      <td>2021-02-05</td>\n",
              "      <td>1</td>\n",
              "      <td>156.78</td>\n",
              "      <td>REA</td>\n",
              "      <td>classic</td>\n",
              "      <td>fulfillment</td>\n",
              "      <td>free_shipping</td>\n",
              "      <td>1440.0</td>\n",
              "    </tr>\n",
              "  </tbody>\n",
              "</table>\n",
              "</div>"
            ],
            "text/plain": [
              "      sku        date  ...  shipping_payment  minutes_active\n",
              "0  464801  2021-02-01  ...     free_shipping          1440.0\n",
              "1  464801  2021-02-02  ...     free_shipping          1440.0\n",
              "2  464801  2021-02-03  ...     free_shipping          1440.0\n",
              "3  464801  2021-02-04  ...     free_shipping          1440.0\n",
              "4  464801  2021-02-05  ...     free_shipping          1440.0\n",
              "\n",
              "[5 rows x 9 columns]"
            ]
          },
          "metadata": {
            "tags": []
          },
          "execution_count": 5
        }
      ]
    },
    {
      "cell_type": "code",
      "metadata": {
        "colab": {
          "base_uri": "https://localhost:8080/",
          "height": 204
        },
        "id": "GrtkErebo6k6",
        "outputId": "ae7db42e-9693-4ada-d225-d6962c113cff"
      },
      "source": [
        "data_test.head()"
      ],
      "execution_count": 6,
      "outputs": [
        {
          "output_type": "execute_result",
          "data": {
            "text/html": [
              "<div>\n",
              "<style scoped>\n",
              "    .dataframe tbody tr th:only-of-type {\n",
              "        vertical-align: middle;\n",
              "    }\n",
              "\n",
              "    .dataframe tbody tr th {\n",
              "        vertical-align: top;\n",
              "    }\n",
              "\n",
              "    .dataframe thead th {\n",
              "        text-align: right;\n",
              "    }\n",
              "</style>\n",
              "<table border=\"1\" class=\"dataframe\">\n",
              "  <thead>\n",
              "    <tr style=\"text-align: right;\">\n",
              "      <th></th>\n",
              "      <th>sku</th>\n",
              "      <th>target_stock</th>\n",
              "    </tr>\n",
              "  </thead>\n",
              "  <tbody>\n",
              "    <tr>\n",
              "      <th>0</th>\n",
              "      <td>464801</td>\n",
              "      <td>3</td>\n",
              "    </tr>\n",
              "    <tr>\n",
              "      <th>1</th>\n",
              "      <td>645793</td>\n",
              "      <td>4</td>\n",
              "    </tr>\n",
              "    <tr>\n",
              "      <th>2</th>\n",
              "      <td>99516</td>\n",
              "      <td>8</td>\n",
              "    </tr>\n",
              "    <tr>\n",
              "      <th>3</th>\n",
              "      <td>538100</td>\n",
              "      <td>8</td>\n",
              "    </tr>\n",
              "    <tr>\n",
              "      <th>4</th>\n",
              "      <td>557191</td>\n",
              "      <td>10</td>\n",
              "    </tr>\n",
              "  </tbody>\n",
              "</table>\n",
              "</div>"
            ],
            "text/plain": [
              "      sku  target_stock\n",
              "0  464801             3\n",
              "1  645793             4\n",
              "2   99516             8\n",
              "3  538100             8\n",
              "4  557191            10"
            ]
          },
          "metadata": {
            "tags": []
          },
          "execution_count": 6
        }
      ]
    },
    {
      "cell_type": "markdown",
      "metadata": {
        "id": "xWiPfU6Eo9YG"
      },
      "source": [
        "Load extra item data"
      ]
    },
    {
      "cell_type": "code",
      "metadata": {
        "id": "-_qX75bEo8UL"
      },
      "source": [
        "## auxiliary function to read jsonlines files\n",
        "\n",
        "def load_jsonlines(filename):\n",
        "  rv = []\n",
        "  for obj in tqdm(jsonlines.open(filename)):\n",
        "    rv.append(obj)\n",
        "  return rv"
      ],
      "execution_count": 7,
      "outputs": []
    },
    {
      "cell_type": "code",
      "metadata": {
        "colab": {
          "base_uri": "https://localhost:8080/"
        },
        "id": "3UikO1G-pFw3",
        "outputId": "4fa3e109-1b87-4068-cf15-cb5a7939ea28"
      },
      "source": [
        "item_metadata = load_jsonlines('/content/items_static_metadata_full.jl')"
      ],
      "execution_count": 8,
      "outputs": [
        {
          "output_type": "stream",
          "text": [
            "660916it [00:06, 107095.62it/s]\n"
          ],
          "name": "stderr"
        }
      ]
    },
    {
      "cell_type": "markdown",
      "metadata": {
        "id": "uqJEI2ytqP_L"
      },
      "source": [
        "Convert to a df and use sku as the index"
      ]
    },
    {
      "cell_type": "code",
      "metadata": {
        "id": "K5uQIDP8pkI0"
      },
      "source": [
        "df_metadata = pd.DataFrame(item_metadata)\n",
        "df_metadata.index = df_metadata.sku\n",
        "df_metadata.drop(columns=['sku'], inplace = True)"
      ],
      "execution_count": 9,
      "outputs": []
    },
    {
      "cell_type": "code",
      "metadata": {
        "colab": {
          "base_uri": "https://localhost:8080/",
          "height": 235
        },
        "id": "4su4RbObqmFV",
        "outputId": "14b7884b-ca5c-40d1-8c5d-a46ea214452c"
      },
      "source": [
        "df_metadata.head()"
      ],
      "execution_count": 10,
      "outputs": [
        {
          "output_type": "execute_result",
          "data": {
            "text/html": [
              "<div>\n",
              "<style scoped>\n",
              "    .dataframe tbody tr th:only-of-type {\n",
              "        vertical-align: middle;\n",
              "    }\n",
              "\n",
              "    .dataframe tbody tr th {\n",
              "        vertical-align: top;\n",
              "    }\n",
              "\n",
              "    .dataframe thead th {\n",
              "        text-align: right;\n",
              "    }\n",
              "</style>\n",
              "<table border=\"1\" class=\"dataframe\">\n",
              "  <thead>\n",
              "    <tr style=\"text-align: right;\">\n",
              "      <th></th>\n",
              "      <th>item_domain_id</th>\n",
              "      <th>item_id</th>\n",
              "      <th>item_title</th>\n",
              "      <th>site_id</th>\n",
              "      <th>product_id</th>\n",
              "      <th>product_family_id</th>\n",
              "    </tr>\n",
              "    <tr>\n",
              "      <th>sku</th>\n",
              "      <th></th>\n",
              "      <th></th>\n",
              "      <th></th>\n",
              "      <th></th>\n",
              "      <th></th>\n",
              "      <th></th>\n",
              "    </tr>\n",
              "  </thead>\n",
              "  <tbody>\n",
              "    <tr>\n",
              "      <th>0</th>\n",
              "      <td>MLB-SNEAKERS</td>\n",
              "      <td>492155</td>\n",
              "      <td>Tênis Masculino Olympikus Cyber Barato Promoçao</td>\n",
              "      <td>MLB</td>\n",
              "      <td>None</td>\n",
              "      <td>MLB15832732</td>\n",
              "    </tr>\n",
              "    <tr>\n",
              "      <th>1</th>\n",
              "      <td>MLB-SURFBOARD_RACKS</td>\n",
              "      <td>300279</td>\n",
              "      <td>Suporte Rack Prancha Parede C/ Regulagem Horiz...</td>\n",
              "      <td>MLB</td>\n",
              "      <td>None</td>\n",
              "      <td>None</td>\n",
              "    </tr>\n",
              "    <tr>\n",
              "      <th>2</th>\n",
              "      <td>MLM-NECKLACES</td>\n",
              "      <td>69847</td>\n",
              "      <td>5 Collares Plateados Dama Gargantilla Choker -...</td>\n",
              "      <td>MLM</td>\n",
              "      <td>None</td>\n",
              "      <td>None</td>\n",
              "    </tr>\n",
              "    <tr>\n",
              "      <th>3</th>\n",
              "      <td>MLM-RINGS</td>\n",
              "      <td>298603</td>\n",
              "      <td>Lindo Anillo De Bella Crepusculo Twilight Prom...</td>\n",
              "      <td>MLM</td>\n",
              "      <td>None</td>\n",
              "      <td>None</td>\n",
              "    </tr>\n",
              "    <tr>\n",
              "      <th>4</th>\n",
              "      <td>MLB-WEBCAMS</td>\n",
              "      <td>345949</td>\n",
              "      <td>Webcam Com Microfone Hd 720p Knup Youtube Pc V...</td>\n",
              "      <td>MLB</td>\n",
              "      <td>None</td>\n",
              "      <td>None</td>\n",
              "    </tr>\n",
              "  </tbody>\n",
              "</table>\n",
              "</div>"
            ],
            "text/plain": [
              "          item_domain_id  item_id  ... product_id product_family_id\n",
              "sku                                ...                             \n",
              "0           MLB-SNEAKERS   492155  ...       None       MLB15832732\n",
              "1    MLB-SURFBOARD_RACKS   300279  ...       None              None\n",
              "2          MLM-NECKLACES    69847  ...       None              None\n",
              "3              MLM-RINGS   298603  ...       None              None\n",
              "4            MLB-WEBCAMS   345949  ...       None              None\n",
              "\n",
              "[5 rows x 6 columns]"
            ]
          },
          "metadata": {
            "tags": []
          },
          "execution_count": 10
        }
      ]
    },
    {
      "cell_type": "markdown",
      "metadata": {
        "id": "h-Fh6u2gq0tZ"
      },
      "source": [
        "Hydrate initial datasets with the extra data"
      ]
    },
    {
      "cell_type": "code",
      "metadata": {
        "id": "7E5NBsBj-k-8"
      },
      "source": [
        "df_sample = df.sample(frac=0.1, random_state=1)"
      ],
      "execution_count": 11,
      "outputs": []
    },
    {
      "cell_type": "code",
      "metadata": {
        "id": "zC5h9HsEqtpT"
      },
      "source": [
        "df_sample = df_sample.join(df_metadata, on='sku', how='left')"
      ],
      "execution_count": 13,
      "outputs": []
    },
    {
      "cell_type": "code",
      "metadata": {
        "id": "88ToaY3nrE3y"
      },
      "source": [
        "data_test = data_test.join(df_metadata, on='sku', how='left')"
      ],
      "execution_count": 16,
      "outputs": []
    },
    {
      "cell_type": "code",
      "metadata": {
        "colab": {
          "base_uri": "https://localhost:8080/",
          "height": 530
        },
        "id": "ksOntIuzrUzk",
        "outputId": "13ac6c1e-54b0-4e74-dff8-4fc0b0d69b88"
      },
      "source": [
        "df_sample.head()"
      ],
      "execution_count": 14,
      "outputs": [
        {
          "output_type": "execute_result",
          "data": {
            "text/html": [
              "<div>\n",
              "<style scoped>\n",
              "    .dataframe tbody tr th:only-of-type {\n",
              "        vertical-align: middle;\n",
              "    }\n",
              "\n",
              "    .dataframe tbody tr th {\n",
              "        vertical-align: top;\n",
              "    }\n",
              "\n",
              "    .dataframe thead th {\n",
              "        text-align: right;\n",
              "    }\n",
              "</style>\n",
              "<table border=\"1\" class=\"dataframe\">\n",
              "  <thead>\n",
              "    <tr style=\"text-align: right;\">\n",
              "      <th></th>\n",
              "      <th>sku</th>\n",
              "      <th>date</th>\n",
              "      <th>sold_quantity</th>\n",
              "      <th>current_price</th>\n",
              "      <th>currency</th>\n",
              "      <th>listing_type</th>\n",
              "      <th>shipping_logistic_type</th>\n",
              "      <th>shipping_payment</th>\n",
              "      <th>minutes_active</th>\n",
              "      <th>item_domain_id</th>\n",
              "      <th>item_id</th>\n",
              "      <th>item_title</th>\n",
              "      <th>site_id</th>\n",
              "      <th>product_id</th>\n",
              "      <th>product_family_id</th>\n",
              "    </tr>\n",
              "  </thead>\n",
              "  <tbody>\n",
              "    <tr>\n",
              "      <th>1005365</th>\n",
              "      <td>152848</td>\n",
              "      <td>2021-03-24</td>\n",
              "      <td>1</td>\n",
              "      <td>167.00</td>\n",
              "      <td>REA</td>\n",
              "      <td>premium</td>\n",
              "      <td>fulfillment</td>\n",
              "      <td>free_shipping</td>\n",
              "      <td>1041.411833</td>\n",
              "      <td>MLB-DRESSES</td>\n",
              "      <td>3892</td>\n",
              "      <td>Vestido Midi Mulher Virtuosa</td>\n",
              "      <td>MLB</td>\n",
              "      <td>None</td>\n",
              "      <td>None</td>\n",
              "    </tr>\n",
              "    <tr>\n",
              "      <th>562310</th>\n",
              "      <td>431324</td>\n",
              "      <td>2021-02-09</td>\n",
              "      <td>27</td>\n",
              "      <td>28.49</td>\n",
              "      <td>REA</td>\n",
              "      <td>premium</td>\n",
              "      <td>fulfillment</td>\n",
              "      <td>paid_shipping</td>\n",
              "      <td>1440.000000</td>\n",
              "      <td>MLB-CELLPHONE_PARTS</td>\n",
              "      <td>56302</td>\n",
              "      <td>Cola Preta T7000 15ml Para Celular Reparo Touc...</td>\n",
              "      <td>MLB</td>\n",
              "      <td>None</td>\n",
              "      <td>None</td>\n",
              "    </tr>\n",
              "    <tr>\n",
              "      <th>1384579</th>\n",
              "      <td>525309</td>\n",
              "      <td>2021-03-04</td>\n",
              "      <td>0</td>\n",
              "      <td>37.91</td>\n",
              "      <td>REA</td>\n",
              "      <td>premium</td>\n",
              "      <td>fulfillment</td>\n",
              "      <td>paid_shipping</td>\n",
              "      <td>1440.000000</td>\n",
              "      <td>MLB-VEHICLE_STICKERS</td>\n",
              "      <td>494687</td>\n",
              "      <td>Kit Adesivos Dodge Dakota Sport 3.9 V6 Em Prat...</td>\n",
              "      <td>MLB</td>\n",
              "      <td>None</td>\n",
              "      <td>None</td>\n",
              "    </tr>\n",
              "    <tr>\n",
              "      <th>33950609</th>\n",
              "      <td>492760</td>\n",
              "      <td>2021-02-18</td>\n",
              "      <td>0</td>\n",
              "      <td>169.15</td>\n",
              "      <td>MEX</td>\n",
              "      <td>premium</td>\n",
              "      <td>drop_off</td>\n",
              "      <td>paid_shipping</td>\n",
              "      <td>1440.000000</td>\n",
              "      <td>MLM-CELLPHONE_COVERS</td>\n",
              "      <td>190467</td>\n",
              "      <td>Fundas Nintendo Switch Para iPhone 11 iPhone 1...</td>\n",
              "      <td>MLM</td>\n",
              "      <td>None</td>\n",
              "      <td>None</td>\n",
              "    </tr>\n",
              "    <tr>\n",
              "      <th>9537449</th>\n",
              "      <td>223511</td>\n",
              "      <td>2021-02-17</td>\n",
              "      <td>0</td>\n",
              "      <td>24.90</td>\n",
              "      <td>REA</td>\n",
              "      <td>premium</td>\n",
              "      <td>fulfillment</td>\n",
              "      <td>paid_shipping</td>\n",
              "      <td>0.000000</td>\n",
              "      <td>MLB-KITCHEN_SUPPLIES</td>\n",
              "      <td>467072</td>\n",
              "      <td>Cesto Cozimento A Vapor Inox Legumes Cozinha P...</td>\n",
              "      <td>MLB</td>\n",
              "      <td>None</td>\n",
              "      <td>None</td>\n",
              "    </tr>\n",
              "  </tbody>\n",
              "</table>\n",
              "</div>"
            ],
            "text/plain": [
              "             sku        date  ...  product_id  product_family_id\n",
              "1005365   152848  2021-03-24  ...        None               None\n",
              "562310    431324  2021-02-09  ...        None               None\n",
              "1384579   525309  2021-03-04  ...        None               None\n",
              "33950609  492760  2021-02-18  ...        None               None\n",
              "9537449   223511  2021-02-17  ...        None               None\n",
              "\n",
              "[5 rows x 15 columns]"
            ]
          },
          "metadata": {
            "tags": []
          },
          "execution_count": 14
        }
      ]
    },
    {
      "cell_type": "markdown",
      "metadata": {
        "id": "AAQwSYZ5_8iP"
      },
      "source": [
        "### Now we'll save the data sample to a csv in order to have it available to work in the future"
      ]
    },
    {
      "cell_type": "code",
      "metadata": {
        "id": "dMUfXO49_PMb"
      },
      "source": [
        "df_sample.to_csv('/content/gdrive/MyDrive/Data/df_sample.csv')"
      ],
      "execution_count": 15,
      "outputs": []
    }
  ]
}